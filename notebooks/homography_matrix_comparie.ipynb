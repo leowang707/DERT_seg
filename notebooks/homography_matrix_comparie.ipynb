{
 "cells": [
  {
   "cell_type": "code",
   "execution_count": 1,
   "metadata": {},
   "outputs": [],
   "source": [
    "import numpy as np\n",
    "\n",
    "def compare_homographies(H1, H2, points):\n",
    "    \"\"\"\n",
    "    Compare two homography matrices by various metrics.\n",
    "    \n",
    "    Args:\n",
    "    H1, H2: Homography matrices to compare.\n",
    "    points: A set of points to test the homographies on.\n",
    "    \n",
    "    Returns:\n",
    "    A dictionary with various comparison metrics.\n",
    "    \"\"\"\n",
    "    # Ensure H1 and H2 are numpy arrays\n",
    "    H1 = np.array(H1)\n",
    "    H2 = np.array(H2)\n",
    "    \n",
    "    # Compute the difference matrix\n",
    "    diff = H1 - H2\n",
    "    \n",
    "    # Frobenius norm of the difference\n",
    "    frobenius_norm = np.linalg.norm(diff, 'fro')\n",
    "    \n",
    "    # Mean Absolute Error (MAE)\n",
    "    mae = np.mean(np.abs(diff))\n",
    "    \n",
    "    # Maximum Absolute Error (MaxAE)\n",
    "    max_ae = np.max(np.abs(diff))\n",
    "    \n",
    "    # Transform the points using both homographies\n",
    "    points = np.concatenate([points, np.ones((points.shape[0], 1))], axis=1)  # Add ones for homogeneous coordinates\n",
    "    points_H1 = (H1 @ points.T).T\n",
    "    points_H1 /= points_H1[:, 2][:, np.newaxis]\n",
    "    \n",
    "    points_H2 = (H2 @ points.T).T\n",
    "    points_H2 /= points_H2[:, 2][:, np.newaxis]\n",
    "    \n",
    "    # Compute reprojection error\n",
    "    reprojection_error = np.linalg.norm(points_H1 - points_H2, axis=1).mean()\n",
    "    \n",
    "    # Summary of differences\n",
    "    comparison_results = {\n",
    "        \"frobenius_norm\": frobenius_norm,\n",
    "        \"mean_absolute_error\": mae,\n",
    "        \"max_absolute_error\": max_ae,\n",
    "        \"difference_matrix\": diff,\n",
    "        \"reprojection_error\": reprojection_error\n",
    "    }\n",
    "    \n",
    "    return comparison_results"
   ]
  },
  {
   "cell_type": "code",
   "execution_count": 12,
   "metadata": {},
   "outputs": [
    {
     "name": "stdout",
     "output_type": "stream",
     "text": [
      "Comparison Results:\n",
      "frobenius_norm: 0.6940981250741811\n",
      "mean_absolute_error: 0.09568010985029513\n",
      "max_absolute_error: 0.6672279999999944\n",
      "difference_matrix: [[ 1.2382240e-03  6.0850400e-05  1.9125000e-01]\n",
      " [ 6.9986900e-04  6.4345100e-04 -6.6722800e-01]\n",
      " [ 4.4065200e-07  1.5360058e-07  0.0000000e+00]]\n",
      "reprojection_error: 0.4314189003753385\n"
     ]
    }
   ],
   "source": [
    "# image 1 and image 2 DETR\n",
    "H1 = np.array([[ 6.48527287e-01,  1.10006708e-02,  1.19024450e+03],\n",
    " [-2.44472274e-01,  9.15187134e-01,  1.44702351e+02],\n",
    " [-1.44055274e-04,  3.59894735e-06,  1.00000000e+00]])\n",
    "H2 = np.array([[ 6.47289063e-01,  1.09398204e-02,  1.19005325e+03],\n",
    " [-2.45172143e-01,  9.14543683e-01,  1.45369579e+02],\n",
    " [-1.44495926e-04,  3.44534677e-06,  1.00000000e+00]])\n",
    "points = np.array([[100, 200], [300, 400], [500, 600], [700, 800]])\n",
    "\n",
    "comparison_results = compare_homographies(H1, H2, points)\n",
    "\n",
    "print(\"Comparison Results:\")\n",
    "for key, value in comparison_results.items():\n",
    "    print(f\"{key}: {value}\")"
   ]
  },
  {
   "cell_type": "code",
   "execution_count": 13,
   "metadata": {},
   "outputs": [
    {
     "name": "stdout",
     "output_type": "stream",
     "text": [
      "Comparison Results:\n",
      "frobenius_norm: 0.6940981250741811\n",
      "mean_absolute_error: 0.09568010985029513\n",
      "max_absolute_error: 0.6672279999999944\n",
      "difference_matrix: [[ 1.2382240e-03  6.0850400e-05  1.9125000e-01]\n",
      " [ 6.9986900e-04  6.4345100e-04 -6.6722800e-01]\n",
      " [ 4.4065200e-07  1.5360058e-07  0.0000000e+00]]\n",
      "reprojection_error: 0.4314189003753385\n"
     ]
    }
   ],
   "source": [
    "# image 1 and image 2 SETR\n",
    "H1 = np.array([[ 6.48527287e-01,  1.10006708e-02,  1.19024450e+03],\n",
    " [-2.44472274e-01,  9.15187134e-01,  1.44702351e+02],\n",
    " [-1.44055274e-04,  3.59894735e-06,  1.00000000e+00]])\n",
    "H2 = np.array([[ 6.47289063e-01,  1.09398204e-02,  1.19005325e+03],\n",
    " [-2.45172143e-01,  9.14543683e-01,  1.45369579e+02],\n",
    " [-1.44495926e-04,  3.44534677e-06,  1.00000000e+00]])\n",
    "points = np.array([[100, 200], [300, 400], [500, 600], [700, 800]])\n",
    "\n",
    "comparison_results = compare_homographies(H1, H2, points)\n",
    "\n",
    "print(\"Comparison Results:\")\n",
    "for key, value in comparison_results.items():\n",
    "    print(f\"{key}: {value}\")"
   ]
  },
  {
   "cell_type": "code",
   "execution_count": 14,
   "metadata": {},
   "outputs": [
    {
     "name": "stdout",
     "output_type": "stream",
     "text": [
      "Comparison Results:\n",
      "frobenius_norm: 0.0\n",
      "mean_absolute_error: 0.0\n",
      "max_absolute_error: 0.0\n",
      "difference_matrix: [[0. 0. 0.]\n",
      " [0. 0. 0.]\n",
      " [0. 0. 0.]]\n",
      "reprojection_error: 0.0\n"
     ]
    }
   ],
   "source": [
    "# image 01 and image 02 DETR\n",
    "H1 = np.array([[ 4.51757367e-01,  1.15429274e-02,  9.38065244e+02],\n",
    " [-2.43162047e-01,  9.58401398e-01, -2.54262009e+01],\n",
    " [-4.46051805e-04,  3.02287945e-05,  1.00000000e+00]])\n",
    "H2 = np.array([[ 4.51757367e-01,  1.15429274e-02,  9.38065244e+02],\n",
    " [-2.43162047e-01,  9.58401398e-01, -2.54262009e+01],\n",
    " [-4.46051805e-04,  3.02287945e-05,  1.00000000e+00]])\n",
    "points = np.array([[100, 200], [300, 400], [500, 600], [700, 800]])\n",
    "\n",
    "comparison_results = compare_homographies(H1, H2, points)\n",
    "\n",
    "print(\"Comparison Results:\")\n",
    "for key, value in comparison_results.items():\n",
    "    print(f\"{key}: {value}\")"
   ]
  },
  {
   "cell_type": "code",
   "execution_count": 15,
   "metadata": {},
   "outputs": [
    {
     "name": "stdout",
     "output_type": "stream",
     "text": [
      "Comparison Results:\n",
      "frobenius_norm: 0.0\n",
      "mean_absolute_error: 0.0\n",
      "max_absolute_error: 0.0\n",
      "difference_matrix: [[0. 0. 0.]\n",
      " [0. 0. 0.]\n",
      " [0. 0. 0.]]\n",
      "reprojection_error: 0.0\n"
     ]
    }
   ],
   "source": [
    "# image 01 and image 02 SETR\n",
    "H1 = np.array([[ 4.51757367e-01,  1.15429274e-02,  9.38065244e+02],\n",
    " [-2.43162047e-01,  9.58401398e-01, -2.54262009e+01],\n",
    " [-4.46051805e-04,  3.02287945e-05,  1.00000000e+00]])\n",
    "H2 = np.array([[ 4.51757367e-01,  1.15429274e-02,  9.38065244e+02],\n",
    " [-2.43162047e-01,  9.58401398e-01, -2.54262009e+01],\n",
    " [-4.46051805e-04,  3.02287945e-05,  1.00000000e+00]])\n",
    "points = np.array([[100, 200], [300, 400], [500, 600], [700, 800]])\n",
    "\n",
    "comparison_results = compare_homographies(H1, H2, points)\n",
    "\n",
    "print(\"Comparison Results:\")\n",
    "for key, value in comparison_results.items():\n",
    "    print(f\"{key}: {value}\")"
   ]
  },
  {
   "cell_type": "code",
   "execution_count": 16,
   "metadata": {},
   "outputs": [
    {
     "name": "stdout",
     "output_type": "stream",
     "text": [
      "Comparison Results:\n",
      "frobenius_norm: 0.10914720668978654\n",
      "mean_absolute_error: 0.017390322309190687\n",
      "max_absolute_error: 0.08326789999999562\n",
      "difference_matrix: [[-4.5072600e-04  9.2357940e-04 -7.0552000e-02]\n",
      " [-4.8170100e-04  8.3466300e-04 -8.3267900e-02]\n",
      " [-1.0225430e-06  1.3088397e-06  0.0000000e+00]]\n",
      "reprojection_error: 0.030281455634759615\n"
     ]
    }
   ],
   "source": [
    "# image 001 and image 002 DETR\n",
    "H1 = np.array([[ 7.65512704e-01,  3.84620713e-02,  4.46433809e+02],\n",
    " [-1.35721153e-01,  9.12837382e-01,  7.59893457e+01],\n",
    " [-2.11758694e-04, -3.08679558e-05,  1.00000000e+00]])\n",
    "H2 = np.array([[ 7.65963430e-01,  3.75384919e-02,  4.46504361e+02],\n",
    " [-1.35239452e-01,  9.12002719e-01,  7.60726136e+01],\n",
    " [-2.10736151e-04, -3.21767955e-05,  1.00000000e+00]])\n",
    "points = np.array([[100, 200], [300, 400], [500, 600], [700, 800]])\n",
    "\n",
    "comparison_results = compare_homographies(H1, H2, points)\n",
    "\n",
    "print(\"Comparison Results:\")\n",
    "for key, value in comparison_results.items():\n",
    "    print(f\"{key}: {value}\")"
   ]
  },
  {
   "cell_type": "code",
   "execution_count": 17,
   "metadata": {},
   "outputs": [
    {
     "name": "stdout",
     "output_type": "stream",
     "text": [
      "Comparison Results:\n",
      "frobenius_norm: 0.10914720668978654\n",
      "mean_absolute_error: 0.017390322309190687\n",
      "max_absolute_error: 0.08326789999999562\n",
      "difference_matrix: [[-4.5072600e-04  9.2357940e-04 -7.0552000e-02]\n",
      " [-4.8170100e-04  8.3466300e-04 -8.3267900e-02]\n",
      " [-1.0225430e-06  1.3088397e-06  0.0000000e+00]]\n",
      "reprojection_error: 0.030281455634759615\n"
     ]
    }
   ],
   "source": [
    "# image 001 and image 002 SETR\n",
    "H1 = np.array([[ 7.65512704e-01,  3.84620713e-02,  4.46433809e+02],\n",
    " [-1.35721153e-01,  9.12837382e-01,  7.59893457e+01],\n",
    " [-2.11758694e-04, -3.08679558e-05,  1.00000000e+00]])\n",
    "H2 = np.array([[ 7.65963430e-01,  3.75384919e-02,  4.46504361e+02],\n",
    " [-1.35239452e-01,  9.12002719e-01,  7.60726136e+01],\n",
    " [-2.10736151e-04, -3.21767955e-05,  1.00000000e+00]])\n",
    "points = np.array([[100, 200], [300, 400], [500, 600], [700, 800]])\n",
    "\n",
    "comparison_results = compare_homographies(H1, H2, points)\n",
    "\n",
    "print(\"Comparison Results:\")\n",
    "for key, value in comparison_results.items():\n",
    "    print(f\"{key}: {value}\")"
   ]
  },
  {
   "cell_type": "code",
   "execution_count": null,
   "metadata": {},
   "outputs": [],
   "source": []
  }
 ],
 "metadata": {
  "kernelspec": {
   "display_name": "Python 3 (ipykernel)",
   "language": "python",
   "name": "python3"
  },
  "language_info": {
   "codemirror_mode": {
    "name": "ipython",
    "version": 3
   },
   "file_extension": ".py",
   "mimetype": "text/x-python",
   "name": "python",
   "nbconvert_exporter": "python",
   "pygments_lexer": "ipython3",
   "version": "3.8.10"
  }
 },
 "nbformat": 4,
 "nbformat_minor": 4
}
