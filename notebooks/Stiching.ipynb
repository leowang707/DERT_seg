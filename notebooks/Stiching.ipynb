{
 "cells": [
  {
   "cell_type": "code",
   "execution_count": null,
   "id": "ab135e7f-4ca2-48f7-b38c-13d24dea3d01",
   "metadata": {},
   "outputs": [],
   "source": [
    "#select the mode of panopt"
   ]
  },
  {
   "cell_type": "code",
   "execution_count": null,
   "id": "16a5f158-a4f0-444b-854e-eaa2befce679",
   "metadata": {},
   "outputs": [],
   "source": [
    "#load the picture/mask/label"
   ]
  },
  {
   "cell_type": "code",
   "execution_count": 1,
   "id": "606e834b-1f2a-499f-b421-153298558027",
   "metadata": {},
   "outputs": [],
   "source": [
    "#SIFT\n",
    "#create the feature point"
   ]
  },
  {
   "cell_type": "code",
   "execution_count": 2,
   "id": "9de2be13-b9b5-46ac-b87c-da526835535b",
   "metadata": {},
   "outputs": [],
   "source": [
    "#use the same label mask to seperate the picture's feature point"
   ]
  },
  {
   "cell_type": "code",
   "execution_count": 3,
   "id": "56eef699-04f1-43f3-8c96-f2cf4eaa98c9",
   "metadata": {},
   "outputs": [],
   "source": [
    "#matching each label picture"
   ]
  },
  {
   "cell_type": "code",
   "execution_count": 4,
   "id": "bcccc6f3-da3f-4f83-ab20-ccc5dd743fde",
   "metadata": {},
   "outputs": [],
   "source": [
    "#summary all the matching into one picture "
   ]
  },
  {
   "cell_type": "code",
   "execution_count": 5,
   "id": "25d5fec5-1b14-404a-a6d5-d6d34e69f9d2",
   "metadata": {},
   "outputs": [],
   "source": [
    "#calculate the Homography matrix"
   ]
  },
  {
   "cell_type": "code",
   "execution_count": null,
   "id": "a87e3456-bd8e-4f2f-a1d1-5830041c76d2",
   "metadata": {},
   "outputs": [],
   "source": []
  }
 ],
 "metadata": {
  "kernelspec": {
   "display_name": "Python 3 (ipykernel)",
   "language": "python",
   "name": "python3"
  },
  "language_info": {
   "codemirror_mode": {
    "name": "ipython",
    "version": 3
   },
   "file_extension": ".py",
   "mimetype": "text/x-python",
   "name": "python",
   "nbconvert_exporter": "python",
   "pygments_lexer": "ipython3",
   "version": "3.8.10"
  }
 },
 "nbformat": 4,
 "nbformat_minor": 5
}
